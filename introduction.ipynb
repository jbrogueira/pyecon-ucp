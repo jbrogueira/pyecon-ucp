{
 "cells": [
  {
   "cell_type": "markdown",
   "metadata": {
    "slideshow": {
     "slide_type": "slide"
    }
   },
   "source": [
    "# Introduction to Python, Spring 2020\n",
    "\n",
    "### MSc in Economics, Universidade Católica Portuguesa\n",
    "\n",
    "João Brogueira de Sousa [jbsousa@ucp.pt]"
   ]
  },
  {
   "cell_type": "markdown",
   "metadata": {
    "slideshow": {
     "slide_type": "slide"
    }
   },
   "source": [
    "## Introduction\n",
    "\n",
    "Welcome to the Python course!"
   ]
  },
  {
   "cell_type": "markdown",
   "metadata": {
    "slideshow": {
     "slide_type": "subslide"
    }
   },
   "source": [
    "### Outcomes\n",
    "\n",
    "At the end of the course, you will be able to use Python to handle and analyse data, and to share your work to colleagues, professors and future employers! \n",
    "\n",
    "In the beginning it will take time and effort to learn it (that's why we are here!). But once you master a few basis aspects, you will be able to work much more productively. You can then analyse, visualize, share and present your work - all within the same Python environment."
   ]
  },
  {
   "cell_type": "markdown",
   "metadata": {
    "slideshow": {
     "slide_type": "slide"
    }
   },
   "source": [
    "### Structure\n",
    "\n",
    "We will meet **online*** using [zoom.us](https://zoom.us/), on the following days:\n",
    "\n",
    "- Wednesday 15 April: 5-7pm\n",
    "- Monday 20 April: 5-7pm\n",
    "- Wednesday 22 April: 5-7pm\n",
    "\n",
    "**All times are Lisbon times (UTC+1).**\n",
    "\n",
    "*more details below."
   ]
  },
  {
   "cell_type": "markdown",
   "metadata": {
    "slideshow": {
     "slide_type": "subslide"
    }
   },
   "source": [
    "During the meetings, I will introduce you to:\n",
    "\n",
    "1. The Python programming language:\n",
    "    - What is Python;\n",
    "    - What for, and why is it widely used;\n",
    "    - How can we access (install) Python - the Anaconda distribution;\n",
    "    - How can we use Python (command window, *.py* files, Jupyter notebooks).\n",
    "2. Python fundamentals:\n",
    "    - Assignment statements (`x = 1.0`);\n",
    "    - Data types, Operators;\n",
    "    - Control flow (conditionals, loops);\n",
    "    - Python functions, modules and libraries;\n",
    "    - Read and write operations.\n",
    "3. Working with data:\n",
    "    - Handling data with `pandas`;\n",
    "    - Visualization with `matplotlib`."
   ]
  },
  {
   "cell_type": "markdown",
   "metadata": {
    "slideshow": {
     "slide_type": "slide"
    }
   },
   "source": [
    "### Requirements\n",
    "\n",
    "- Participate in the online sessions\n",
    "- Pratice working with Python independently \n",
    "    - As much as you can! It is impossible to learn it without trying (and failing a few times)\n",
    "    - Try doing things you are used to do with a pocket calculator, Excel, etc., with Python\n",
    "    - Solve the suggested exercises after each class\n",
    "- Solve quizes at the end of each Topic"
   ]
  },
  {
   "cell_type": "markdown",
   "metadata": {
    "slideshow": {
     "slide_type": "subslide"
    }
   },
   "source": [
    "#### Grading \n",
    "\n",
    "The final grade will be Pass/Fail. \n",
    "\n",
    "At the end of each Topic there will be an online quiz with two to four simple questions (multiple choice or true/false). The quizes will be timed and should take a few minutes (seconds?) to answer.\n",
    "\n",
    "There will be in total 5 quizes. One after the first session (April 15), one at the middle and another after each of the last two sessions (April 20 and 22).\n",
    "\n",
    "To obtain the grade Pass, students must answer correctly at least half of all the questions. The quiz with the most incorrent asnwers does not count.\n",
    "\n",
    "In order to answer correctly the quizes it is enough to follow the online classes. I encourage you to ask for clarifications during the class/by email when there are any doubts."
   ]
  },
  {
   "cell_type": "markdown",
   "metadata": {},
   "source": [
    "### Online classes\n",
    "\n",
    "At least one day before each class I will post a link on the course's Moodle page for a zoom conference call. You don't need to download the zoom app, you can join the call through your browser (I use [Google Chrome](https://www.google.com/chrome/)).\n",
    "\n",
    "During the classes, there will be a Google Hanghout open as a backup chat room, in case zoom goes down or any of us cannot connect and we need to comunicate. Please join the chat room using the link below (requires a free Google account): \n",
    "\n",
    "https://hangouts.google.com/group/HMtXwa7Qigzm69oC7"
   ]
  },
  {
   "cell_type": "markdown",
   "metadata": {
    "slideshow": {
     "slide_type": "slide"
    }
   },
   "source": [
    "### Other information\n",
    "\n",
    "- I will use Moodle to comunicate and share the course's material.\n",
    "- There is a forum on the course's Moodle page that you can use for discussions about Python.\n",
    "- There are thousands of references online about Python:\n",
    "    - Python's official [documentation](https://www.python.org/doc/)\n",
    "    - The [QuantEcon](https://quantecon.org) project has in my opinion the best lectures and code. Check the [Data Science](https://datascience.quantecon.org/) course.\n",
    "- Please write me an email if you have any question about the course."
   ]
  }
 ],
 "metadata": {
  "kernelspec": {
   "display_name": "Python 3",
   "language": "python",
   "name": "python3"
  },
  "language_info": {
   "codemirror_mode": {
    "name": "ipython",
    "version": 3
   },
   "file_extension": ".py",
   "mimetype": "text/x-python",
   "name": "python",
   "nbconvert_exporter": "python",
   "pygments_lexer": "ipython3",
   "version": "3.7.4"
  }
 },
 "nbformat": 4,
 "nbformat_minor": 4
}
