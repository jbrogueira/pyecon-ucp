{
 "cells": [
  {
   "cell_type": "markdown",
   "metadata": {},
   "source": [
    "# Introduction to Python, Spring 2020\n",
    "\n",
    "### MSc in Economics, Universidade Católica Portuguesa\n",
    "\n",
    "João Brogueira de Sousa [jbsousa@ucp.pt]"
   ]
  },
  {
   "cell_type": "markdown",
   "metadata": {},
   "source": [
    "## Python Essentials\n",
    "\n",
    "In this notebook you can find some basic aspects of programming in Python: how to create and assign values to a variable, what are the different data types and operators."
   ]
  },
  {
   "cell_type": "markdown",
   "metadata": {},
   "source": [
    "### Assignment statements \n",
    "\n",
    "The first thing we will learn is how to assign a value to a variable. This is done through an assignment statement:"
   ]
  },
  {
   "cell_type": "code",
   "execution_count": null,
   "metadata": {
    "jupyter": {
     "outputs_hidden": true
    }
   },
   "outputs": [],
   "source": [
    "x = \"Hello world!\""
   ]
  },
  {
   "cell_type": "markdown",
   "metadata": {},
   "source": [
    "The statement above does not express a mathematical equality. \n",
    "\n",
    "It expresses an *action* we want Python to perform:\n",
    "\n",
    "1. compute the value on the right side of the equal sign (\"Hello world!\" in this example), and store that value in the memory of our computer;\n",
    "\n",
    "2. give it the specified on the left of the equal sign (`x` in this example).\n",
    "\n",
    "Python will remember `x` during the *current* Python session, but no longer after we end the session."
   ]
  },
  {
   "cell_type": "code",
   "execution_count": null,
   "metadata": {
    "jupyter": {
     "outputs_hidden": true
    }
   },
   "outputs": [],
   "source": [
    "print(x)"
   ]
  },
  {
   "cell_type": "markdown",
   "metadata": {},
   "source": [
    "If we now give the same name `x` to another variable:"
   ]
  },
  {
   "cell_type": "code",
   "execution_count": null,
   "metadata": {
    "jupyter": {
     "outputs_hidden": true
    }
   },
   "outputs": [],
   "source": [
    "x = 1.0"
   ]
  },
  {
   "cell_type": "code",
   "execution_count": null,
   "metadata": {
    "jupyter": {
     "outputs_hidden": true
    }
   },
   "outputs": [],
   "source": [
    "print(x)"
   ]
  },
  {
   "cell_type": "markdown",
   "metadata": {},
   "source": [
    "We loose the association to the value that was originally attributed to `x` (Hello world!). \n",
    "\n",
    "Now the name `x` is bound to a different object in memory, and this object has a numerial value (1.0).\n",
    "\n",
    "Let's see what happens with an assignment statement in Python in more detail."
   ]
  },
  {
   "cell_type": "code",
   "execution_count": null,
   "metadata": {
    "jupyter": {
     "outputs_hidden": true
    }
   },
   "outputs": [],
   "source": [
    "a = 123"
   ]
  },
  {
   "cell_type": "markdown",
   "metadata": {},
   "source": [
    "When we write `a = 123` and ask Python to evaluate this statement, Python will create an *object* in the memory of our computer with the value 123, and then label this new object label `a`.\n",
    "\n",
    "What do we mean by *object* here? \n",
    "\n",
    "In Python, an object is characterized by an *idendity*, a *type* and its *value*:\n",
    "\n",
    "- The *identity* uniquely identifies an object. It is the actual address in our computer's memory where the object is stored. We usually don't need to know it.\n",
    "\n",
    "- The *type* of the object defines how it can behave in our program (what we can do with it). It defines the possible values it can represent (for example, integers, real numbers, boolean values, characters), and the operations that we can perform on it (for example, division, multiplication, etc.). \n",
    "\n",
    "- The *value* is the actual value that the object represents. This may change during the execution of our Python program.\n",
    "\n",
    "Let's see this mechanism in action."
   ]
  },
  {
   "cell_type": "code",
   "execution_count": null,
   "metadata": {
    "jupyter": {
     "outputs_hidden": true
    }
   },
   "outputs": [],
   "source": [
    "b = 99 # create a new object with value 99, and call it 'b'"
   ]
  },
  {
   "cell_type": "markdown",
   "metadata": {},
   "source": [
    "Now add the values of the objects named `a` and `b`, then create a new object `c` and assign the resulting sum to it:"
   ]
  },
  {
   "cell_type": "code",
   "execution_count": null,
   "metadata": {
    "jupyter": {
     "outputs_hidden": true
    }
   },
   "outputs": [],
   "source": [
    "c = a + b"
   ]
  },
  {
   "cell_type": "code",
   "execution_count": null,
   "metadata": {
    "jupyter": {
     "outputs_hidden": true
    }
   },
   "outputs": [],
   "source": [
    "print(c)"
   ]
  },
  {
   "cell_type": "markdown",
   "metadata": {},
   "source": [
    "Now `c` has value 222.\n",
    "\n",
    "Suppose that now we change the value associated to `a`:"
   ]
  },
  {
   "cell_type": "code",
   "execution_count": null,
   "metadata": {
    "jupyter": {
     "outputs_hidden": true
    }
   },
   "outputs": [],
   "source": [
    "a = 0 # create a new object with value 0"
   ]
  },
  {
   "cell_type": "code",
   "execution_count": null,
   "metadata": {
    "jupyter": {
     "outputs_hidden": true
    }
   },
   "outputs": [],
   "source": [
    "print(a)"
   ]
  },
  {
   "cell_type": "markdown",
   "metadata": {},
   "source": [
    "What happened with `c`, that we created above with the statement `c = a + b`? Did its value change after we changed the value to which `a` is bound to?"
   ]
  },
  {
   "cell_type": "code",
   "execution_count": null,
   "metadata": {
    "jupyter": {
     "outputs_hidden": true
    }
   },
   "outputs": [],
   "source": [
    "print(c)"
   ]
  },
  {
   "cell_type": "markdown",
   "metadata": {},
   "source": [
    "It did not. \n",
    "\n",
    "`c` is still pointing to the object with value 222, sitting somewhere in the memory of our computer, as we did nothing to change that. \n",
    "\n",
    "It is important to always remember this mechanism as we write more complext statements in our Python programs."
   ]
  },
  {
   "cell_type": "markdown",
   "metadata": {},
   "source": [
    "Other things worth noting at this point:\n",
    "- The order with which we evaluate the cells is crucial. That's why Jupyter always numbers the code cells, so that we know the order in which they were last evaluated.\n",
    "- Python is case sensitive: `x` and `X` are two different names.\n",
    "- We can add comments to the code by using `#`. Python ignores everything in a line following `#`. They should be used extensively, to explain what the code does."
   ]
  },
  {
   "cell_type": "markdown",
   "metadata": {},
   "source": [
    "### Commonly used data types and operators\n",
    "\n",
    "We have already created a few variables, and we've seen that each of them is an object with a given `type` (even if we didn't specify it directly).\n",
    "\n",
    "A data *type* is the *set of values* a given variable can take, and the *set of operations* that are defined on those values. \n",
    "\n",
    "For example, above `a=123` created an object of type `int`, for as 123 is an integer number. \n",
    "\n",
    "And we saw one operation on two `int` objects, when we wrote `c=a+b`.\n",
    "\n",
    "Several data types are built into Python. Among them, we often use: \n",
    "\n",
    "- `int`: integers (1, 2, 3, ...)\n",
    "\n",
    "- `float`: floating point numbers (1.0, 1.5, 3.14159, ...)\n",
    "\n",
    "- `bool`: boolean values (`True`, `False`)\n",
    "\n",
    "- `str`: sequences of characters (\"Hello\", \"AB\", \"2.4\")\n",
    "\n",
    "We can also create our own data types. Let's first get to know the four types above."
   ]
  },
  {
   "cell_type": "markdown",
   "metadata": {},
   "source": [
    "#### Boolean\n",
    "\n",
    "One simple data type is `bool`, that represents boolean values `True` and `False`. "
   ]
  },
  {
   "cell_type": "code",
   "execution_count": null,
   "metadata": {
    "jupyter": {
     "outputs_hidden": true
    }
   },
   "outputs": [],
   "source": [
    "h1 = True\n",
    "print(h1)"
   ]
  },
  {
   "cell_type": "code",
   "execution_count": null,
   "metadata": {
    "jupyter": {
     "outputs_hidden": true
    }
   },
   "outputs": [],
   "source": [
    "type(h1)"
   ]
  },
  {
   "cell_type": "markdown",
   "metadata": {},
   "source": [
    "`type` is another built-in Python function that returns the type of a variable.\n",
    "\n",
    "Instead of writing `True` or `False` directly, we can use comparison operators to assign boolean values:"
   ]
  },
  {
   "cell_type": "code",
   "execution_count": null,
   "metadata": {
    "jupyter": {
     "outputs_hidden": true
    }
   },
   "outputs": [],
   "source": [
    "h0 = 1 > 10"
   ]
  },
  {
   "cell_type": "markdown",
   "metadata": {},
   "source": [
    "Above, the Python interpreter evaluates the expression to the right of `=` and binds `y` to the outcome of this evaluation."
   ]
  },
  {
   "cell_type": "code",
   "execution_count": null,
   "metadata": {
    "jupyter": {
     "outputs_hidden": true
    }
   },
   "outputs": [],
   "source": [
    "print(h0)"
   ]
  },
  {
   "cell_type": "code",
   "execution_count": null,
   "metadata": {
    "jupyter": {
     "outputs_hidden": true
    }
   },
   "outputs": [],
   "source": [
    "h0 = 1 == 1"
   ]
  },
  {
   "cell_type": "code",
   "execution_count": null,
   "metadata": {
    "jupyter": {
     "outputs_hidden": true
    }
   },
   "outputs": [],
   "source": [
    "print(h0)"
   ]
  },
  {
   "cell_type": "markdown",
   "metadata": {},
   "source": [
    "We can use `<`, `>`, `==`, `>=` and `<=`.\n",
    "\n",
    "We can also use the word `not` to negate a boolean."
   ]
  },
  {
   "cell_type": "code",
   "execution_count": null,
   "metadata": {
    "jupyter": {
     "outputs_hidden": true
    }
   },
   "outputs": [],
   "source": [
    "h0 = not True\n",
    "print(h0)"
   ]
  },
  {
   "cell_type": "markdown",
   "metadata": {},
   "source": [
    "Sometimes we need to make multiple comparisons. We can do this with `and` and `or`:"
   ]
  },
  {
   "cell_type": "code",
   "execution_count": null,
   "metadata": {
    "jupyter": {
     "outputs_hidden": true
    }
   },
   "outputs": [],
   "source": [
    "h0 and h1"
   ]
  },
  {
   "cell_type": "code",
   "execution_count": null,
   "metadata": {
    "jupyter": {
     "outputs_hidden": true
    }
   },
   "outputs": [],
   "source": [
    "h0 or h1"
   ]
  },
  {
   "cell_type": "markdown",
   "metadata": {},
   "source": [
    "#### Integers and floats\n",
    "\n",
    "We usually use integers `int` and floats `float` data-types to represent numeric values in Python."
   ]
  },
  {
   "cell_type": "code",
   "execution_count": null,
   "metadata": {
    "jupyter": {
     "outputs_hidden": true
    }
   },
   "outputs": [],
   "source": [
    "i = 1\n",
    "f = 1.0"
   ]
  },
  {
   "cell_type": "code",
   "execution_count": null,
   "metadata": {
    "jupyter": {
     "outputs_hidden": true
    }
   },
   "outputs": [],
   "source": [
    "type(i)"
   ]
  },
  {
   "cell_type": "code",
   "execution_count": null,
   "metadata": {
    "jupyter": {
     "outputs_hidden": true
    }
   },
   "outputs": [],
   "source": [
    "type(f)"
   ]
  },
  {
   "cell_type": "markdown",
   "metadata": {},
   "source": [
    "We wouldn't care much about the distinction between the two, but in a computer the distiction is useful: operations done with integers are more accurate and faster (they take less memory). \n",
    "\n",
    "Division of two integers yields a float:"
   ]
  },
  {
   "cell_type": "code",
   "execution_count": null,
   "metadata": {
    "jupyter": {
     "outputs_hidden": true
    }
   },
   "outputs": [],
   "source": [
    "1 / 2"
   ]
  },
  {
   "cell_type": "markdown",
   "metadata": {},
   "source": [
    "If we want the integer division, we use: "
   ]
  },
  {
   "cell_type": "code",
   "execution_count": null,
   "metadata": {
    "jupyter": {
     "outputs_hidden": true
    }
   },
   "outputs": [],
   "source": [
    "1 // 2"
   ]
  },
  {
   "cell_type": "code",
   "execution_count": null,
   "metadata": {
    "jupyter": {
     "outputs_hidden": true
    }
   },
   "outputs": [],
   "source": [
    "3*2"
   ]
  },
  {
   "cell_type": "code",
   "execution_count": null,
   "metadata": {
    "jupyter": {
     "outputs_hidden": true
    }
   },
   "outputs": [],
   "source": [
    "3.0*2"
   ]
  },
  {
   "cell_type": "code",
   "execution_count": null,
   "metadata": {
    "jupyter": {
     "outputs_hidden": true
    }
   },
   "outputs": [],
   "source": [
    "3.0**2"
   ]
  },
  {
   "cell_type": "markdown",
   "metadata": {},
   "source": [
    "#### Strings\n",
    "\n",
    "We often want our Python programs to process text. The built-in data type used to represent text strings is `str`. \n",
    "\n",
    "The value of a `str` object is a string of characters."
   ]
  },
  {
   "cell_type": "code",
   "execution_count": null,
   "metadata": {
    "jupyter": {
     "outputs_hidden": true
    }
   },
   "outputs": [],
   "source": [
    "message = 'Hello, World!'\n",
    "message"
   ]
  },
  {
   "cell_type": "code",
   "execution_count": null,
   "metadata": {
    "jupyter": {
     "outputs_hidden": true
    }
   },
   "outputs": [],
   "source": [
    "type(message)"
   ]
  },
  {
   "cell_type": "markdown",
   "metadata": {},
   "source": [
    "The `+` operator defined on `str` applies concatenation:"
   ]
  },
  {
   "cell_type": "code",
   "execution_count": null,
   "metadata": {
    "jupyter": {
     "outputs_hidden": true
    }
   },
   "outputs": [],
   "source": [
    "'Hello, ' + 'World!'"
   ]
  },
  {
   "cell_type": "code",
   "execution_count": null,
   "metadata": {
    "jupyter": {
     "outputs_hidden": true
    }
   },
   "outputs": [],
   "source": [
    "'123' + '456'"
   ]
  },
  {
   "cell_type": "code",
   "execution_count": null,
   "metadata": {
    "jupyter": {
     "outputs_hidden": true
    }
   },
   "outputs": [],
   "source": [
    "# '123' + 456 # remove the comment and evalue this cell"
   ]
  },
  {
   "cell_type": "markdown",
   "metadata": {},
   "source": [
    "### Sequence types\n",
    "\n",
    "We often work with large collections of data. For example, suppose we want to work with the time series of a daily stock price in the last month. "
   ]
  },
  {
   "cell_type": "markdown",
   "metadata": {},
   "source": [
    "#### Lists\n",
    "\n",
    "The built-in Python data-type `list` is a way to handle a collection of data. \n",
    "\n",
    "This is the unemployment rate in the U.S. from March 2019 to March 2020. From the [U.S. Bureau of Labor Statistics](https://data.bls.gov/timeseries/LNS14000000)."
   ]
  },
  {
   "cell_type": "code",
   "execution_count": null,
   "metadata": {},
   "outputs": [],
   "source": [
    "URATE = [3.8, 3.6, 3.6, 3.7, 3.7, 3.7, 3.5, 3.6, 3.5, 3.5, 3.6, 3.5, 4.4]\n",
    "type(URATE)"
   ]
  },
  {
   "cell_type": "markdown",
   "metadata": {},
   "source": [
    "Python follows **zero-based indexing**. If we want to refer to the first element of `v`, we do it with:"
   ]
  },
  {
   "cell_type": "code",
   "execution_count": null,
   "metadata": {},
   "outputs": [],
   "source": [
    "print(URATE[0])"
   ]
  },
  {
   "cell_type": "markdown",
   "metadata": {},
   "source": [
    "Similarly, for the other elements, we use `URATE[i]` notation. \n",
    "\n",
    "The built-in function `len` determines the length of an array. `URATE` has 13 elements, therefore it has length 13."
   ]
  },
  {
   "cell_type": "code",
   "execution_count": null,
   "metadata": {},
   "outputs": [],
   "source": [
    "len(URATE)"
   ]
  },
  {
   "cell_type": "markdown",
   "metadata": {},
   "source": [
    "Given the **zero-based indexing**, the last element of an array is `URATE[len(x)-1]`."
   ]
  },
  {
   "cell_type": "code",
   "execution_count": null,
   "metadata": {},
   "outputs": [],
   "source": [
    "print(URATE[len(URATE)-1])"
   ]
  },
  {
   "cell_type": "markdown",
   "metadata": {},
   "source": [
    "We can add an element to `URATE` by writing:"
   ]
  },
  {
   "cell_type": "code",
   "execution_count": null,
   "metadata": {},
   "outputs": [],
   "source": [
    "URATE += [0.00] # one way to append an element to a list\n",
    "print(URATE)"
   ]
  },
  {
   "cell_type": "markdown",
   "metadata": {},
   "source": [
    "The *slicing* notation allows to refer to any contiguous sequence of array elements. "
   ]
  },
  {
   "cell_type": "code",
   "execution_count": null,
   "metadata": {},
   "outputs": [],
   "source": [
    "print(URATE[1:3])"
   ]
  },
  {
   "cell_type": "markdown",
   "metadata": {},
   "source": [
    "If we write `URATE[m:n]`, we obtain `n-m` elements starting at `URATE[m]`:"
   ]
  },
  {
   "cell_type": "markdown",
   "metadata": {},
   "source": [
    "If we want to access the last two values in `URATE`, we can use a negative index:"
   ]
  },
  {
   "cell_type": "code",
   "execution_count": null,
   "metadata": {},
   "outputs": [],
   "source": [
    "print(URATE[-2:])"
   ]
  },
  {
   "cell_type": "code",
   "execution_count": null,
   "metadata": {},
   "outputs": [],
   "source": [
    "print(URATE[:])"
   ]
  },
  {
   "cell_type": "markdown",
   "metadata": {},
   "source": [
    "We can change the values in an object of data-type `list`. That's why we call them *mutable* objects.  \n",
    "\n",
    "This is in contrast with `int` and `float` types, that we *immutable* objects."
   ]
  },
  {
   "cell_type": "code",
   "execution_count": null,
   "metadata": {},
   "outputs": [],
   "source": [
    "URATE[len(URATE)-1] = URATE[len(URATE)-2]\n",
    "print(URATE)"
   ]
  },
  {
   "cell_type": "markdown",
   "metadata": {},
   "source": [
    "#### Array aliases and copies \n",
    "\n",
    "Let's do `S = URATE`.  `S` will reference the same object as `URATE`."
   ]
  },
  {
   "cell_type": "code",
   "execution_count": null,
   "metadata": {},
   "outputs": [],
   "source": [
    "S = URATE\n",
    "print(S)"
   ]
  },
  {
   "cell_type": "markdown",
   "metadata": {},
   "source": [
    "The fact that an object of type `list` is *mutable* has an effect that may be surprising at first. \n",
    "\n",
    "It implies that if we change the value of one of the elements of the object:"
   ]
  },
  {
   "cell_type": "code",
   "execution_count": null,
   "metadata": {},
   "outputs": [],
   "source": [
    "URATE[-1] = 0.00 # another way to access last element of APPL\n",
    "print(URATE)"
   ]
  },
  {
   "cell_type": "markdown",
   "metadata": {},
   "source": [
    "The object to which `URATE` (and `S`) refer to has changed, because we change the value of its second element."
   ]
  },
  {
   "cell_type": "code",
   "execution_count": null,
   "metadata": {},
   "outputs": [],
   "source": [
    "print(S)"
   ]
  },
  {
   "cell_type": "markdown",
   "metadata": {},
   "source": [
    "`S[1]` is also 0.0, even though we didn't refer to `S[1]` explicitly. This situation, when two variables refer to the same object, is known as *aliasing*. \n",
    "\n",
    "The object of type `list` (`URATE` and `S`) is mutable, meaning its value can change. This is in contrast to *immutable* object (`int`, `float`, `str`, etc.), whose value cannot be changed. \n",
    "\n",
    "We should always keep this property in mind, and whenever possible avoid aliasing arrays and other *mutable* objects. It is a fertile ground for programming errors (often difficult to spot). \n",
    "\n",
    "What if we want to make a *copy* `S0` of an array `URATE`, such that `URATE` and `S0` refer to two *different* objects?\n",
    "\n",
    "One simple way is to use *slicing* to refer to all the element of `URATE` and make a copy, to which `S0` becomes bound to."
   ]
  },
  {
   "cell_type": "code",
   "execution_count": null,
   "metadata": {},
   "outputs": [],
   "source": [
    "S0 = URATE[:]\n",
    "print(S0)"
   ]
  },
  {
   "cell_type": "code",
   "execution_count": null,
   "metadata": {},
   "outputs": [],
   "source": [
    "URATE[0] = 0.00\n",
    "print(URATE)"
   ]
  },
  {
   "cell_type": "code",
   "execution_count": null,
   "metadata": {},
   "outputs": [],
   "source": [
    "print(S0)"
   ]
  },
  {
   "cell_type": "markdown",
   "metadata": {},
   "source": [
    "#### Tuples\n",
    "\n",
    "Another Python type to use when working with a collection of data is called *tuple*.\n",
    "\n",
    "It is very similar to a `list`. They key differences are:\n",
    "\n",
    "- We create them with `(...)` instead of `[...]`\n",
    "- They are *immutable*."
   ]
  },
  {
   "cell_type": "code",
   "execution_count": null,
   "metadata": {},
   "outputs": [],
   "source": [
    "country = ('USA', 'Brazil', 'UK', 'Portugal', 'Italy', 'Germany')\n",
    "type(country)"
   ]
  },
  {
   "cell_type": "markdown",
   "metadata": {},
   "source": [
    "As in data-type `list`, elements in a `tuple` can be of different type:"
   ]
  },
  {
   "cell_type": "code",
   "execution_count": null,
   "metadata": {},
   "outputs": [],
   "source": [
    "pt_urate = ('Portugal', 6.5, 7)\n",
    "\n",
    "[type(pt_urate[0]), type(pt_urate[1]), type(pt_urate[2])] # a list with the different types in 'pt_urate'"
   ]
  },
  {
   "cell_type": "markdown",
   "metadata": {},
   "source": [
    "In some cases, we may prefer to use an *immutable* `tuple` instead of a `list`. But then we cannot operate changes on that object:"
   ]
  },
  {
   "cell_type": "code",
   "execution_count": null,
   "metadata": {},
   "outputs": [],
   "source": [
    "# ticker[1] = ''"
   ]
  },
  {
   "cell_type": "markdown",
   "metadata": {},
   "source": [
    "#### Dictionaries\n",
    "\n",
    "Like a word dictionary with words and its definitions, a dictionary (`dic`) in Python is a collection of `keys` and corresponding `values`."
   ]
  },
  {
   "cell_type": "code",
   "execution_count": null,
   "metadata": {},
   "outputs": [],
   "source": [
    "usa = {'country': 'USA', 'month': 3, 'year': 2020, 'urate': 4.4, 'gdpnow': 0.9620}\n",
    "print(urates)"
   ]
  },
  {
   "cell_type": "markdown",
   "metadata": {},
   "source": [
    "`usa['key']` will return the value associated with `key`:"
   ]
  },
  {
   "cell_type": "code",
   "execution_count": null,
   "metadata": {},
   "outputs": [],
   "source": [
    "usa['urate']"
   ]
  },
  {
   "cell_type": "code",
   "execution_count": null,
   "metadata": {},
   "outputs": [],
   "source": [
    "usa['gdpnow']"
   ]
  },
  {
   "cell_type": "markdown",
   "metadata": {},
   "source": [
    "## Exercises "
   ]
  },
  {
   "cell_type": "markdown",
   "metadata": {},
   "source": [
    "### Exercise 1\n",
    "\n",
    "What do you think the value of `z` is, after running the code below? Change the cell below to read the value of `z` after each of the two statements."
   ]
  },
  {
   "cell_type": "code",
   "execution_count": null,
   "metadata": {},
   "outputs": [],
   "source": [
    "z = 100\n",
    "z = 100 - 10"
   ]
  },
  {
   "cell_type": "markdown",
   "metadata": {},
   "source": [
    "### Exercise 2\n",
    "\n",
    "Create the following variables:\n",
    "\n",
    "- `D`: A floating point number with the value 10,000\n",
    "- `r`: A floating point number with value 0.025\n",
    "- `T`: An integer with value 30\n",
    "\n",
    "Then compute the present discounted value of a payment (D) made in T years assuming an interest rate of 2.5%. Save this value to a new variable called `PDV` and print it."
   ]
  },
  {
   "cell_type": "markdown",
   "metadata": {},
   "source": [
    "### Exercise 3\n",
    "\n",
    "In Python, we can know more about what a function does by typing `?` after the function name. For example, if we want to know more about the function `len` seen above, we can type `len?`.\n",
    "\n",
    "If we write `x=[1, 2, 3, 4]`, what do you think `len(x)` will produce?\n",
    "\n",
    "Check if you are write by running the two statements below."
   ]
  },
  {
   "cell_type": "markdown",
   "metadata": {},
   "source": [
    "### Exercise 4\n",
    "\n",
    "Without typing the commands, determine whether the following statements are true or false.\n",
    "\n",
    "Once you have evaluated whether the command is `True` or `False`, run the code in Python."
   ]
  },
  {
   "cell_type": "code",
   "execution_count": null,
   "metadata": {
    "jupyter": {
     "outputs_hidden": true
    }
   },
   "outputs": [],
   "source": [
    "x = 2\n",
    "y = 2\n",
    "z = 4\n",
    "\n",
    "# Statement 1\n",
    "x > z\n",
    "\n",
    "# Statement 1\n",
    "x == y\n",
    "\n",
    "# Statement 3\n",
    "(x < y) and (x > y)\n",
    "\n",
    "# Statement 4\n",
    "(x < y) or (x > y)\n",
    "\n",
    "# Statement 5\n",
    "(x <= y) and (x >= y)\n",
    "\n",
    "# Statement 6\n",
    "True and ((x < z) or (x < y))"
   ]
  },
  {
   "cell_type": "markdown",
   "metadata": {},
   "source": [
    "### Exercise 5\n",
    "\n",
    "The code below is an invalid Python statement. Can you fix it?"
   ]
  },
  {
   "cell_type": "code",
   "execution_count": null,
   "metadata": {
    "jupyter": {
     "outputs_hidden": true
    }
   },
   "outputs": [],
   "source": [
    "x = 'What's wrong with this string'"
   ]
  },
  {
   "cell_type": "markdown",
   "metadata": {},
   "source": [
    "### Exercise 6\n",
    "\n",
    "Search in the [Python Docs about Built-in Data Types](https://docs.python.org/3/library/stdtypes.html) how you can convert `a` and `b` below to a `tuple` and a `list`, respectively. \n",
    "\n",
    "Hint: read about the different ways in which **lists** and **tuples** can be constructed."
   ]
  },
  {
   "cell_type": "code",
   "execution_count": null,
   "metadata": {},
   "outputs": [],
   "source": [
    "a = [0, 1, 2] # a list\n",
    "b = (0, 1, 2) # a tuple"
   ]
  },
  {
   "cell_type": "markdown",
   "metadata": {},
   "source": [
    "### Exercise 7 \n",
    "\n",
    "Search in the [Python Docs about dictionaries](https://docs.python.org/3/library/stdtypes.html#dict) how to update in the variable below the `month` and `year` (and the corresponding data for `urate` and `gdpnow`) to e.g. January 2020."
   ]
  },
  {
   "cell_type": "code",
   "execution_count": null,
   "metadata": {},
   "outputs": [],
   "source": [
    "usa = {'country': 'USA', 'month': 3, 'year': 2020, 'urate': 4.4, 'gdpnow': 0.9620}"
   ]
  },
  {
   "cell_type": "markdown",
   "metadata": {},
   "source": [
    "Note: Some of the exercises above are in the [Python Fundamentals lecture](https://datascience.quantecon.org/python_fundamentals/basics.html) of the [Data Science course at QuantEcon.org](https://datascience.quantecon.org/). You can read the lecture and find more exercises at the bottom of the notebook."
   ]
  }
 ],
 "metadata": {
  "kernelspec": {
   "display_name": "Python 3",
   "language": "python",
   "name": "python3"
  },
  "language_info": {
   "codemirror_mode": {
    "name": "ipython",
    "version": 3
   },
   "file_extension": ".py",
   "mimetype": "text/x-python",
   "name": "python",
   "nbconvert_exporter": "python",
   "pygments_lexer": "ipython3",
   "version": "3.7.4"
  }
 },
 "nbformat": 4,
 "nbformat_minor": 4
}
