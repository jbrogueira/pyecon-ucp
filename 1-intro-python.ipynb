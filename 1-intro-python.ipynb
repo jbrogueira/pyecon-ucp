{
 "cells": [
  {
   "cell_type": "markdown",
   "metadata": {
    "slideshow": {
     "slide_type": "slide"
    }
   },
   "source": [
    "# Introduction to Python, Spring 2020\n",
    "\n",
    "### MSc in Economics, Universidade Católica Portuguesa\n",
    "\n",
    "João Brogueira de Sousa [jbsousa@ucp.pt]"
   ]
  },
  {
   "cell_type": "markdown",
   "metadata": {
    "slideshow": {
     "slide_type": "slide"
    }
   },
   "source": [
    "## What is Python?\n",
    "\n",
    "\"*Python is an interpreted, high-level, general-purpose programming language.*\" ([Wikipedia](https://en.wikipedia.org/wiki/Python_(programming_language)))\n",
    "\n",
    "- \"interpreted\": executes without previously compiling a program\n",
    "- \"high-level\": abstracts from details of the computer (memory managment)\n",
    "- \"general-purpose\": wide variety of applications"
   ]
  },
  {
   "cell_type": "markdown",
   "metadata": {
    "slideshow": {
     "slide_type": "slide"
    }
   },
   "source": [
    "### What for and why is it widely used?\n",
    "\n",
    "- Easy to learn and use, in comparison to other programming languages.\n",
    "- Provides many useful tools to work with data.\n",
    "- Popular and open source programming language: means you don't have to write everything from scratch for your application, but can often use (and contribute to) open source code. \n",
    "- General purpose: data analysis, data visualization, financial modeling, websites, presentations, etc."
   ]
  },
  {
   "cell_type": "markdown",
   "metadata": {
    "slideshow": {
     "slide_type": "slide"
    }
   },
   "source": [
    "## How can we access it?\n",
    "\n",
    "https://www.python.org/\n",
    "\n",
    "We can install Python like any other piece of software, by [downloading](https://www.python.org/downloads/) and installing the relevant software packages. \n",
    "\n",
    "\n",
    "However, for this course we need additional Python resources (i.e. packages, *libraries* of code with Python *functions* we will use often), which are not included in the core Python distribution.\n",
    "\n",
    "Instead of installing each of these packages individually, we will install the [Anaconda Python distribution](https://www.anaconda.com/distribution/).\n",
    "\n",
    "By installing [Anaconda](https://en.wikipedia.org/wiki/Anaconda_(Python_distribution)), we make sure not only that we have all the Python packages we need, but that they interact smoothly when we use them together."
   ]
  },
  {
   "cell_type": "markdown",
   "metadata": {},
   "source": [
    "## How can we use it?"
   ]
  },
  {
   "cell_type": "markdown",
   "metadata": {
    "slideshow": {
     "slide_type": "slide"
    }
   },
   "source": [
    "Once Python is installed, we can use directly by openning a Terminal window (*Command prompt* in Windows), and typing `python`:\n",
    "\n",
    "![Starting Python from Terminal/Command prompt](1-intro-python-figs/terminal-python.png)\n",
    "\n",
    "We have started the Python *interpreter*, meaning that we can now type in statements that our computer will be able to interpret in Python, provided they are written in correct Python language.\n",
    "\n",
    "Exit by typing `control+D` on Unix or `control+Z` on Windows, or `quit()`."
   ]
  },
  {
   "cell_type": "markdown",
   "metadata": {
    "slideshow": {
     "slide_type": "subslide"
    }
   },
   "source": [
    "With the Python interpreter, we can perform simple operations:\n",
    "\n",
    "![Using Python from Terminal/Command prompt for simple math operations.](1-intro-python-figs/terminal-python-1-2.png)"
   ]
  },
  {
   "cell_type": "markdown",
   "metadata": {
    "slideshow": {
     "slide_type": "subslide"
    }
   },
   "source": [
    "Or we can use Python functions available in the core Python libraries (we can also create our own functions!):\n",
    "\n",
    "![Using Python from Terminal/Command prompt with Python's built-in functions.](1-intro-python-figs/terminal-python-hello.png)"
   ]
  },
  {
   "cell_type": "markdown",
   "metadata": {},
   "source": [
    "### Jupyter Notebooks\n",
    "\n",
    "Instead of using Python directly from the Command/Terminal window, we will use a software called [Jupyter](https://jupyter.org/). \n",
    "\n",
    "[Jupyter](https://jupyter.org/) is an interactive development environment. Using [Jupyter Notebooks](https://mybinder.org/v2/gh/ipython/ipython-in-depth/7e5ce96cc9251083979efdfc393425f1229a4a68), we can create documents (the Notebooks) that contain Python code, graphics, text, all in the same file.\n",
    "\n",
    "We can easily share Jupyter Notebooks, and we can convert them to PDF, interactive slides, website pages, and more. You have actually been reading these lines after I wrote them using a Jupyter Notebook! (more on this later...)"
   ]
  },
  {
   "cell_type": "code",
   "execution_count": 1,
   "metadata": {},
   "outputs": [
    {
     "name": "stdout",
     "output_type": "stream",
     "text": [
      "Welcome to your first Jupyter Notebook!\n"
     ]
    }
   ],
   "source": [
    "print(\"Welcome to your first Jupyter Notebook!\")"
   ]
  },
  {
   "cell_type": "markdown",
   "metadata": {},
   "source": [
    "## Exercises\n",
    "\n",
    "Download and install the Anaconda distribution on your laptop. \n",
    "\n",
    "Choose [Anaconda 2020.02 with Python 3.7 version](https://www.anaconda.com/distribution/).\n",
    "\n",
    "### 1. Your first Python program\n",
    "\n",
    "After installing, open the Anaconda Prompt (terminal on Linux or macOS).\n",
    "\n",
    "Type `python`. The `>>>` means you are now able to run Python code.\n",
    "\n",
    "Type `print(\"Hello Python world!\")` and press Enter.\n",
    "\n",
    "Exit Python: on Windows, press `crtl+z` and Enter. On Linux or macOS, type `exit()` and press Enter.\n",
    "\n",
    "### 2. Run Python in a Jupyter Notebook\n",
    "\n",
    "At the Anaconda Prompt (terminal on Linux or macOS), type `jupyter-notebook` and press Enter.\n",
    "\n",
    "Create a new Python 3 Notebook. \n",
    "\n",
    "Type `print(\"Hello Python world!\")` in the empty cell, and evaluate it by pressing `Shift+Enter`.\n",
    "\n",
    "Close the Notebook and in the Notebook server directory, select and shutdown the Notebook (it should be named Untitled.ipynb in case you have not changed the name), and delete it. \n",
    "\n",
    "At the Anaconda Prompt, press `crtl+z` (Windows) or `crtl+c` to exit Jupyter.\n",
    "\n",
    "For detailed instructions see the [Anaconda User guide](https://docs.anaconda.com/anaconda/user-guide/getting-started/) and [Jupyter's Quick Start guide](https://jupyter-notebook-beginner-guide.readthedocs.io/en/latest/execute.html)."
   ]
  }
 ],
 "metadata": {
  "kernelspec": {
   "display_name": "Python 3",
   "language": "python",
   "name": "python3"
  },
  "language_info": {
   "codemirror_mode": {
    "name": "ipython",
    "version": 3
   },
   "file_extension": ".py",
   "mimetype": "text/x-python",
   "name": "python",
   "nbconvert_exporter": "python",
   "pygments_lexer": "ipython3",
   "version": "3.7.4"
  }
 },
 "nbformat": 4,
 "nbformat_minor": 4
}
